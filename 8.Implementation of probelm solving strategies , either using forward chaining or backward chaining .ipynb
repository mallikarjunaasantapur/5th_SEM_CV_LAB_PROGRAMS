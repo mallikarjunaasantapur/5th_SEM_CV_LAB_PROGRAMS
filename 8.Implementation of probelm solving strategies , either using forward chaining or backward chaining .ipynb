{
 "cells": [
  {
   "cell_type": "markdown",
   "id": "d97e71a1",
   "metadata": {},
   "source": [
    "# Forawrd Chaining "
   ]
  },
  {
   "cell_type": "code",
   "execution_count": 1,
   "id": "7212df7e",
   "metadata": {},
   "outputs": [],
   "source": [
    "class rule :\n",
    "    def __init__(self,antecedents,consequent) :\n",
    "        \n",
    "        self.antecedents =  antecedents\n",
    "        self.consequent  = consequent"
   ]
  },
  {
   "cell_type": "code",
   "execution_count": 2,
   "id": "6cc51573",
   "metadata": {},
   "outputs": [],
   "source": [
    "class KnowledgeBase :\n",
    "    \n",
    "    def __init__(self) :\n",
    "        \n",
    "        self.facts  =  set() \n",
    "        self.rules =  []\n",
    "        \n",
    "    def add_facts(self,facts) :\n",
    "        \n",
    "        self.facts.add(facts) \n",
    "        \n",
    "    def add_rules(self,rule) :\n",
    "        \n",
    "        self.rules.append(rule)\n",
    "        \n",
    "    def apply_forward_chaining(self) :\n",
    "        \n",
    "        new_facts_derived =  True \n",
    "        \n",
    "        while new_facts_derived :\n",
    "            \n",
    "            new_facts_derived = False\n",
    "            \n",
    "            for rule in self.rules  :\n",
    "                \n",
    "                if all(antecedent in self.facts for antecedent in rule.antecedents) and rule.consequent not in self.facts  :\n",
    "                    \n",
    "                    self.facts.add(rule.consequent) \n",
    "                    \n",
    "                    new_facts_derived =  True  \n",
    "                    \n",
    "                    \n",
    "        "
   ]
  },
  {
   "cell_type": "code",
   "execution_count": 3,
   "id": "5869ad5c",
   "metadata": {},
   "outputs": [
    {
     "name": "stdout",
     "output_type": "stream",
     "text": [
      "Derived Facts : {'G', 'A', 'E', 'C', 'D'}\n"
     ]
    }
   ],
   "source": [
    "if __name__  == \"__main__\"  :\n",
    "    \n",
    "    kb = KnowledgeBase() \n",
    "    \n",
    "    #Define rules and facts \n",
    "    \n",
    "    \n",
    "    rule1 =  rule([\"A\",\"C\"],\"E\")  \n",
    "    rule2  = rule([\"A\",\"E\"],\"G\") \n",
    "    rule3 =  rule([\"B\"],\"E\")\n",
    "    rule4 =  rule([\"G\"],\"D\")\n",
    "    kb.add_rules(rule1)\n",
    "    kb.add_rules(rule2) \n",
    "    kb.add_rules(rule3)\n",
    "    kb.add_rules(rule4)\n",
    "    \n",
    "    kb.add_facts(\"A\")\n",
    "    kb.add_facts(\"C\")\n",
    "    \n",
    "    kb.apply_forward_chaining() \n",
    "    \n",
    "    print(\"Derived Facts :\",kb.facts)\n",
    "    "
   ]
  }
 ],
 "metadata": {
  "kernelspec": {
   "display_name": "Python 3 (ipykernel)",
   "language": "python",
   "name": "python3"
  },
  "language_info": {
   "codemirror_mode": {
    "name": "ipython",
    "version": 3
   },
   "file_extension": ".py",
   "mimetype": "text/x-python",
   "name": "python",
   "nbconvert_exporter": "python",
   "pygments_lexer": "ipython3",
   "version": "3.9.12"
  }
 },
 "nbformat": 4,
 "nbformat_minor": 5
}
