{
 "cells": [
  {
   "cell_type": "code",
   "execution_count": 1,
   "id": "0292a397",
   "metadata": {},
   "outputs": [],
   "source": [
    "import math"
   ]
  },
  {
   "cell_type": "code",
   "execution_count": 2,
   "id": "d444a795",
   "metadata": {},
   "outputs": [],
   "source": [
    "def distance(point1,point2) :\n",
    "    return math.sqrt((point1[0]-point2[0])**2 + (point1[1]-point2[1])**2)\n",
    "                     "
   ]
  },
  {
   "cell_type": "code",
   "execution_count": 3,
   "id": "b2e19b56",
   "metadata": {},
   "outputs": [],
   "source": [
    "def nearest_neighbours(points) :\n",
    "    \n",
    "    n = len(points) \n",
    "    unvisited =  set(range(n)) \n",
    "    tour = [0]\n",
    "    unvisited.remove(0) \n",
    "    \n",
    "    while unvisited :\n",
    "        \n",
    "        current_point  = tour[-1] \n",
    "        nearest_point = min(unvisited,key =  lambda x:distance(points[current_point],points[x]))\n",
    "        tour.append(nearest_point)\n",
    "        unvisited.remove(nearest_point) \n",
    "        \n",
    "    tour.append(tour[0])\n",
    "    \n",
    "    return tour \n"
   ]
  },
  {
   "cell_type": "code",
   "execution_count": 5,
   "id": "6bd79d7f",
   "metadata": {},
   "outputs": [
    {
     "name": "stdout",
     "output_type": "stream",
     "text": [
      "Optimal Tour: [0, 1, 2, 3, 4, 0]\n"
     ]
    }
   ],
   "source": [
    "if __name__ == \"__main__\" :\n",
    "    \n",
    "    points = [(0,0),(1,2),(2,3),(3,4),(4,2)]\n",
    "    \n",
    "    tour = nearest_neighbours(points)\n",
    "    \n",
    "    print(\"Optimal Tour:\",tour)"
   ]
  },
  {
   "cell_type": "code",
   "execution_count": null,
   "id": "1dc69e42",
   "metadata": {},
   "outputs": [],
   "source": []
  }
 ],
 "metadata": {
  "kernelspec": {
   "display_name": "Python 3 (ipykernel)",
   "language": "python",
   "name": "python3"
  },
  "language_info": {
   "codemirror_mode": {
    "name": "ipython",
    "version": 3
   },
   "file_extension": ".py",
   "mimetype": "text/x-python",
   "name": "python",
   "nbconvert_exporter": "python",
   "pygments_lexer": "ipython3",
   "version": "3.9.12"
  }
 },
 "nbformat": 4,
 "nbformat_minor": 5
}
