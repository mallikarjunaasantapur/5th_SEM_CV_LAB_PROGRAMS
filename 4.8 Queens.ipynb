{
 "cells": [
  {
   "cell_type": "code",
   "execution_count": 1,
   "id": "542e05f3",
   "metadata": {},
   "outputs": [
    {
     "name": "stdout",
     "output_type": "stream",
     "text": [
      "Taking the number of queens\n",
      "8\n",
      "[1, 0, 0, 0, 0, 0, 0, 0]\n",
      "[0, 0, 0, 0, 1, 0, 0, 0]\n",
      "[0, 0, 0, 0, 0, 0, 0, 1]\n",
      "[0, 0, 0, 0, 0, 1, 0, 0]\n",
      "[0, 0, 1, 0, 0, 0, 0, 0]\n",
      "[0, 0, 0, 0, 0, 0, 1, 0]\n",
      "[0, 1, 0, 0, 0, 0, 0, 0]\n",
      "[0, 0, 0, 1, 0, 0, 0, 0]\n"
     ]
    }
   ],
   "source": [
    "print(\"Taking the number of queens\")\n",
    "\n",
    "N = int(input())\n",
    "\n",
    "board =  [[0]*N for _ in range(N)]\n",
    "\n",
    "def attack(i,j) :\n",
    "    \n",
    "    for k in range(0,N) :\n",
    "        if board[i][k] ==1  or board[k][j] ==1 :\n",
    "            return True \n",
    "        \n",
    "    for k in range(0,N) :\n",
    "            for l in range(0,N) :\n",
    "                if(k+l==i+j) or (k-l==i-j) :\n",
    "                    if board[k][l] == 1 :\n",
    "                        return True\n",
    "                    \n",
    "    return False \n",
    "    \n",
    "def N_queens(n):\n",
    "    \n",
    "    if n==0 :\n",
    "        return True \n",
    "    \n",
    "    for i in range(0,N) :\n",
    "        for j in range(0,N) :\n",
    "        \n",
    "            if (not(attack(i,j))) and (board[i][j]!=1) :\n",
    "                board[i][j] = 1 \n",
    "\n",
    "                if N_queens(n-1) == True :\n",
    "                    return True \n",
    "                board[i][j] = 0 \n",
    "    return False \n",
    "\n",
    "N_queens(N)\n",
    "\n",
    "for i in board :\n",
    "    print (i)            "
   ]
  },
  {
   "cell_type": "code",
   "execution_count": null,
   "id": "e42e7930",
   "metadata": {},
   "outputs": [],
   "source": []
  }
 ],
 "metadata": {
  "kernelspec": {
   "display_name": "Python 3 (ipykernel)",
   "language": "python",
   "name": "python3"
  },
  "language_info": {
   "codemirror_mode": {
    "name": "ipython",
    "version": 3
   },
   "file_extension": ".py",
   "mimetype": "text/x-python",
   "name": "python",
   "nbconvert_exporter": "python",
   "pygments_lexer": "ipython3",
   "version": "3.9.12"
  }
 },
 "nbformat": 4,
 "nbformat_minor": 5
}
