{
 "cells": [
  {
   "cell_type": "code",
   "execution_count": 3,
   "id": "b7191dcd",
   "metadata": {},
   "outputs": [
    {
     "name": "stdout",
     "output_type": "stream",
     "text": [
      "The goal 'C' cannot  be reached .\n"
     ]
    }
   ],
   "source": [
    "knowledge_base  = {\n",
    "    \n",
    "    \"rule1\" : {\n",
    "        \n",
    "        \"if\" : [\"A\",\"B\"]  ,\n",
    "        \"then\":\"C\"\n",
    "    }, \n",
    "    \"rule2\" : {\n",
    "        \n",
    "        \"if\" : [\"D\"] ,\n",
    "        \"then\" : \"A\"\n",
    "        \n",
    "    } ,\n",
    "    \"rule3\" : { \n",
    "        \"if\" : [\"F\"] ,\n",
    "        \"then\" : \"B\" \n",
    "    } ,\n",
    "    \"rule4\" : {\n",
    "        \"if\" : [\"F\"] ,\n",
    "        \"then\" : \"D\" \n",
    "    } ,\n",
    "    \"rule5\" : {\n",
    "        \"if\" : [\"G\"] ,\n",
    "        \"then\" : \"E\" \n",
    "    } \n",
    "} \n",
    "\n",
    "#Define a function to perform backward chaining \n",
    "\n",
    "def backward_chaining(goal,known_facts) :\n",
    "    \n",
    "    if goal in known_facts :\n",
    "        \n",
    "        return True\n",
    "    \n",
    "    for rule , value  in knowledge_base.items() :\n",
    "        \n",
    "        if goal in value[\"if\"] :\n",
    "            \n",
    "            all_conditions_met = all(condition in known_facts for condition in value[\"if\"])\n",
    "            \n",
    "            if all_conditions_met and backward_chaining(value[\"then\"] ,\n",
    "                                                        known_facts) : \n",
    "                return True \n",
    "            return False \n",
    "        \n",
    "goal  = \"C\"\n",
    "known_facts = [\"G\",\"F\",\"E\"]\n",
    "    \n",
    "    # check if goal can be reached using backward chaining\n",
    "    \n",
    "if backward_chaining(goal,known_facts) :\n",
    "        \n",
    "        print(f\"The goal '{goal}' can be reached .\")\n",
    "    \n",
    "else  :\n",
    "        print(f\"The goal '{goal}' cannot  be reached .\")\n",
    "        \n",
    "        \n",
    "        "
   ]
  },
  {
   "cell_type": "code",
   "execution_count": null,
   "id": "328d75a0",
   "metadata": {},
   "outputs": [],
   "source": []
  }
 ],
 "metadata": {
  "kernelspec": {
   "display_name": "Python 3 (ipykernel)",
   "language": "python",
   "name": "python3"
  },
  "language_info": {
   "codemirror_mode": {
    "name": "ipython",
    "version": 3
   },
   "file_extension": ".py",
   "mimetype": "text/x-python",
   "name": "python",
   "nbconvert_exporter": "python",
   "pygments_lexer": "ipython3",
   "version": "3.9.12"
  }
 },
 "nbformat": 4,
 "nbformat_minor": 5
}
